{
  "nbformat": 4,
  "nbformat_minor": 0,
  "metadata": {
    "colab": {
      "provenance": [],
      "authorship_tag": "ABX9TyOGFbrRsMUh5CmDy3C4RzeG",
      "include_colab_link": true
    },
    "kernelspec": {
      "name": "python3",
      "display_name": "Python 3"
    },
    "language_info": {
      "name": "python"
    }
  },
  "cells": [
    {
      "cell_type": "markdown",
      "metadata": {
        "id": "view-in-github",
        "colab_type": "text"
      },
      "source": [
        "<a href=\"https://colab.research.google.com/github/leo-lacerda/learning-nlp/blob/main/transformers_fill_mask.ipynb\" target=\"_parent\"><img src=\"https://colab.research.google.com/assets/colab-badge.svg\" alt=\"Open In Colab\"/></a>"
      ]
    },
    {
      "cell_type": "code",
      "execution_count": 1,
      "metadata": {
        "id": "zFBIQdX5h9xW"
      },
      "outputs": [],
      "source": [
        "from transformers import pipeline"
      ]
    },
    {
      "cell_type": "code",
      "source": [
        "unmasker = pipeline(\"fill-mask\")\n",
        "unmasker(\"<mask> explains how the self-concept is associated with group membership and group and intergroup behavior. ISocial Identity Theoryt defines group membership in terms of people’s identification, definition, and evaluation of themselves as members of a group (social identity) and specifies cognitive, social interactive and societal processes that interact to produce typical group phenomena.\", top_k = 2)"
      ],
      "metadata": {
        "colab": {
          "base_uri": "https://localhost:8080/"
        },
        "id": "I7dwvOVqiapY",
        "outputId": "88ef9b7e-e14e-4744-8635-a74db57f6c3b"
      },
      "execution_count": 3,
      "outputs": [
        {
          "output_type": "stream",
          "name": "stderr",
          "text": [
            "No model was supplied, defaulted to distilroberta-base and revision ec58a5b (https://huggingface.co/distilroberta-base).\n",
            "Using a pipeline without specifying a model name and revision in production is not recommended.\n",
            "Some weights of the model checkpoint at distilroberta-base were not used when initializing RobertaForMaskedLM: ['roberta.pooler.dense.bias', 'roberta.pooler.dense.weight']\n",
            "- This IS expected if you are initializing RobertaForMaskedLM from the checkpoint of a model trained on another task or with another architecture (e.g. initializing a BertForSequenceClassification model from a BertForPreTraining model).\n",
            "- This IS NOT expected if you are initializing RobertaForMaskedLM from the checkpoint of a model that you expect to be exactly identical (initializing a BertForSequenceClassification model from a BertForSequenceClassification model).\n"
          ]
        },
        {
          "output_type": "execute_result",
          "data": {
            "text/plain": [
              "[{'score': 0.026327207684516907,\n",
              "  'token': 13216,\n",
              "  'token_str': 'TI',\n",
              "  'sequence': 'TI explains how the self-concept is associated with group membership and group and intergroup behavior. ISocial Identity Theoryt defines group membership in terms of people’s identification, definition, and evaluation of themselves as members of a group (social identity) and specifies cognitive, social interactive and societal processes that interact to produce typical group phenomena.'},\n",
              " {'score': 0.024677462875843048,\n",
              "  'token': 243,\n",
              "  'token_str': 'It',\n",
              "  'sequence': 'It explains how the self-concept is associated with group membership and group and intergroup behavior. ISocial Identity Theoryt defines group membership in terms of people’s identification, definition, and evaluation of themselves as members of a group (social identity) and specifies cognitive, social interactive and societal processes that interact to produce typical group phenomena.'}]"
            ]
          },
          "metadata": {},
          "execution_count": 3
        }
      ]
    }
  ]
}