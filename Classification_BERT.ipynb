{
  "nbformat": 4,
  "nbformat_minor": 0,
  "metadata": {
    "colab": {
      "provenance": [],
      "authorship_tag": "ABX9TyNsMCjFi7TXhZoVhccXBGyE"
    },
    "kernelspec": {
      "name": "python3",
      "display_name": "Python 3"
    },
    "language_info": {
      "name": "python"
    }
  },
  "cells": [
    {
      "cell_type": "code",
      "execution_count": 20,
      "metadata": {
        "id": "pRoyhqcwpv5K"
      },
      "outputs": [],
      "source": [
        "from transformers import AutoTokenizer\n",
        "from transformers import AutoModel"
      ]
    },
    {
      "cell_type": "code",
      "source": [
        "checkpoint = \"distilbert-base-uncased-finetuned-sst-2-english\"\n",
        "tokenizer = AutoTokenizer.from_pretrained(checkpoint)\n",
        "model = AutoModel.from_pretrained(checkpoint)"
      ],
      "metadata": {
        "id": "Js6DcypJp8ev"
      },
      "execution_count": 21,
      "outputs": []
    },
    {
      "cell_type": "code",
      "source": [
        "raw_inputs = [\n",
        "    \"I've been waiting for this opportunity to learn how to code my whole life!\",\n",
        "    \"I hate this kind of company that only focus on profit.\",\n",
        "    \"I can't believe that I'm gonna study at an AI bachelor course!\",\n",
        "]\n",
        "\n",
        "inputs = tokenizer(raw_inputs, padding=True, truncation=True, return_tensors='pt')\n",
        "print(inputs)"
      ],
      "metadata": {
        "colab": {
          "base_uri": "https://localhost:8080/"
        },
        "id": "6TRSGPmcqKNx",
        "outputId": "86262903-c058-40ba-9ad3-370737b39860"
      },
      "execution_count": 22,
      "outputs": [
        {
          "output_type": "stream",
          "name": "stdout",
          "text": [
            "{'input_ids': tensor([[ 101, 1045, 1005, 2310, 2042, 3403, 2005, 2023, 4495, 2000, 4553, 2129,\n",
            "         2000, 3642, 2026, 2878, 2166,  999,  102],\n",
            "        [ 101, 1045, 5223, 2023, 2785, 1997, 2194, 2008, 2069, 3579, 2006, 5618,\n",
            "         1012,  102,    0,    0,    0,    0,    0],\n",
            "        [ 101, 1045, 2064, 1005, 1056, 2903, 2008, 1045, 1005, 1049, 6069, 2817,\n",
            "         2012, 2019, 9932, 5065, 2607,  999,  102]]), 'attention_mask': tensor([[1, 1, 1, 1, 1, 1, 1, 1, 1, 1, 1, 1, 1, 1, 1, 1, 1, 1, 1],\n",
            "        [1, 1, 1, 1, 1, 1, 1, 1, 1, 1, 1, 1, 1, 1, 0, 0, 0, 0, 0],\n",
            "        [1, 1, 1, 1, 1, 1, 1, 1, 1, 1, 1, 1, 1, 1, 1, 1, 1, 1, 1]])}\n"
          ]
        }
      ]
    },
    {
      "cell_type": "code",
      "source": [
        "outputs = model(**inputs)\n",
        "print(outputs.last_hidden_state.shape)"
      ],
      "metadata": {
        "colab": {
          "base_uri": "https://localhost:8080/"
        },
        "id": "nmDWK_ihqsPA",
        "outputId": "0f4af8f4-d7c9-4c4c-8d8b-9bf1db929dff"
      },
      "execution_count": 23,
      "outputs": [
        {
          "output_type": "stream",
          "name": "stdout",
          "text": [
            "torch.Size([3, 19, 768])\n"
          ]
        }
      ]
    },
    {
      "cell_type": "code",
      "source": [
        "from transformers import AutoModelForSequenceClassification\n",
        "\n",
        "checkpoint = \"distilbert-base-uncased-finetuned-sst-2-english\"\n",
        "model = AutoModelForSequenceClassification.from_pretrained(checkpoint)\n",
        "outputs = model(**inputs)"
      ],
      "metadata": {
        "id": "jnaiCApzvawY"
      },
      "execution_count": 24,
      "outputs": []
    },
    {
      "cell_type": "code",
      "source": [
        "print(outputs.logits.shape)"
      ],
      "metadata": {
        "colab": {
          "base_uri": "https://localhost:8080/"
        },
        "id": "DP7RC7uTxfQj",
        "outputId": "5b761d5e-fb88-423c-808c-8435af0abf1d"
      },
      "execution_count": 25,
      "outputs": [
        {
          "output_type": "stream",
          "name": "stdout",
          "text": [
            "torch.Size([3, 2])\n"
          ]
        }
      ]
    },
    {
      "cell_type": "code",
      "source": [
        "print(outputs.logits)"
      ],
      "metadata": {
        "colab": {
          "base_uri": "https://localhost:8080/"
        },
        "id": "HCJMMavRxg2_",
        "outputId": "fceebf33-90b0-4392-8ec5-228156c98128"
      },
      "execution_count": 26,
      "outputs": [
        {
          "output_type": "stream",
          "name": "stdout",
          "text": [
            "tensor([[-2.8511,  2.8940],\n",
            "        [ 4.2973, -3.5317],\n",
            "        [ 2.2624, -1.9607]], grad_fn=<AddmmBackward0>)\n"
          ]
        }
      ]
    },
    {
      "cell_type": "code",
      "source": [
        "import torch\n",
        "\n",
        "predictions = torch.nn.functional.softmax(outputs.logits, dim=-1)\n",
        "print(predictions)"
      ],
      "metadata": {
        "colab": {
          "base_uri": "https://localhost:8080/"
        },
        "id": "Z8RCODYhxjBa",
        "outputId": "91f0292c-3a51-4135-a4e7-ce3a78f6687a"
      },
      "execution_count": 27,
      "outputs": [
        {
          "output_type": "stream",
          "name": "stdout",
          "text": [
            "tensor([[3.1883e-03, 9.9681e-01],\n",
            "        [9.9960e-01, 3.9789e-04],\n",
            "        [9.8556e-01, 1.4441e-02]], grad_fn=<SoftmaxBackward0>)\n"
          ]
        }
      ]
    },
    {
      "cell_type": "code",
      "source": [
        "for i in range(len(raw_inputs)):\n",
        "    print(f\"Sentence: {raw_inputs[i]}\")\n",
        "    predicted_class_index = torch.argmax(predictions[i]).item()\n",
        "    confidence = predictions[i][predicted_class_index].item()  # Get confidence\n",
        "    print(f\"Prediction: {model.config.id2label[predicted_class_index]}\")\n",
        "    print(f\"Confidence: {confidence:.2f}\")  # Print confidence with 2 decimal places\n",
        "    print(\"---\")"
      ],
      "metadata": {
        "colab": {
          "base_uri": "https://localhost:8080/"
        },
        "id": "KO7GnBS5xm4h",
        "outputId": "800a5c53-a0e6-4d08-b43c-f603798c0005"
      },
      "execution_count": 30,
      "outputs": [
        {
          "output_type": "stream",
          "name": "stdout",
          "text": [
            "Sentence: I've been waiting for this opportunity to learn how to code my whole life!\n",
            "Prediction: POSITIVE\n",
            "Confidence: 1.00\n",
            "---\n",
            "Sentence: I hate this kind of company that only focus on profit.\n",
            "Prediction: NEGATIVE\n",
            "Confidence: 1.00\n",
            "---\n",
            "Sentence: I can't believe that I'm gonna study at an AI bachelor course!\n",
            "Prediction: NEGATIVE\n",
            "Confidence: 0.99\n",
            "---\n"
          ]
        }
      ]
    }
  ]
}