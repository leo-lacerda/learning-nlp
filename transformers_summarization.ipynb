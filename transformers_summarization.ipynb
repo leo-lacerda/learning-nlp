{
  "nbformat": 4,
  "nbformat_minor": 0,
  "metadata": {
    "colab": {
      "provenance": [],
      "authorship_tag": "ABX9TyOwntgcd1VMUGCkVJ0i7yz2",
      "include_colab_link": true
    },
    "kernelspec": {
      "name": "python3",
      "display_name": "Python 3"
    },
    "language_info": {
      "name": "python"
    }
  },
  "cells": [
    {
      "cell_type": "markdown",
      "metadata": {
        "id": "view-in-github",
        "colab_type": "text"
      },
      "source": [
        "<a href=\"https://colab.research.google.com/github/leo-lacerda/learning-nlp/blob/main/transformers_summarization.ipynb\" target=\"_parent\"><img src=\"https://colab.research.google.com/assets/colab-badge.svg\" alt=\"Open In Colab\"/></a>"
      ]
    },
    {
      "cell_type": "code",
      "execution_count": null,
      "metadata": {
        "id": "TeuCmkaGFjmJ"
      },
      "outputs": [],
      "source": [
        "from transformers import pipeline"
      ]
    },
    {
      "cell_type": "code",
      "source": [
        "summarizer = pipeline(\"summarization\")\n",
        "summarizer(\n",
        "    \"\"\"\n",
        "    Social identity theory explains how the self-concept is associated with group membership and group and intergroup behavior.\n",
        "    Social Identity Theoryt defines group membership in terms of people’s identification, definition, and evaluation of themselves\n",
        "    as members of a group (social identity) and specifies cognitive, social interactive and societal processes that interact to produce\n",
        "    typical group phenomena.\n",
        "\n",
        "    Originating in the work of Henri Tajfel in the late 1960s and collaboration with John Turner in the 1970s, social identity theory\n",
        "    has a number of different conceptual foci. The two most significant are the social identity theory of intergroup relations and the\n",
        "    social identity theory of the group, the latter called self-categorization theory. Social identity theory has developed to become\n",
        "    one of social psychology’s most significant and extensively cited analyses of inter-group and group phenomena, for example,\n",
        "    prejudice, discrimination, stereotyping, cooperation and competition, conformity, norms, group decision making, leadership, and\n",
        "    deviance.\n",
        "\n",
        "    People have a repertoire of different ways to conceive of themselves; they have many different identities that can be classified\n",
        "    as personal identities or social identities. Personal identities are definitions and evaluations of oneself in terms of\n",
        "    idiosyncratic personal attributes (e.g., generous, shy), and one’s personal relationships (e.g., X’s friend, Y’s spouse).\n",
        "    Social identities are definitions and evaluations of oneself in terms of the attributes of specific groups to which one belongs\n",
        "    (e.g., male, nurse, Hindu). Personal identity is tied to the personal self and associated with interpersonal or idiosyncratic\n",
        "    individual behaviors; social identity is tied to the collective self and associated with group and intergroup behaviors.\n",
        "    Recently, theorists have argued that in some cultures, social identity rests more on networks of relations within a group and\n",
        "    is thus associated with the relational self.\n",
        "\n",
        "    Human groups are social categories that people mentally represent as prototypes, complex (fuzzy) sets of interrelated attributes\n",
        "    that capture similarities within groups and differences between groups. Prototypes maximize entitativity (the extent to which a\n",
        "    group is a distinct entity) and optimize metacontrast (the extent to which there is similarity within and difference between\n",
        "    groups). If someone says to you, “Norwegian,” what comes immediately to mind is your prototype of that national group.\n",
        "    Overwhelmingly, people make binary categorizations in which one of the categories is the group that they are in, the ingroup.\n",
        "    Thus, prototypes not only capture similarities within the ingroup but also accentuate differences between a person’s group and\n",
        "    a specific outgroup. Ingroup prototypes can therefore change as a function of which outgroup you are comparing your group to.\n",
        "    In this way, prototypes are context dependent.\n",
        "    \"\"\"\n",
        ")"
      ],
      "metadata": {
        "colab": {
          "base_uri": "https://localhost:8080/"
        },
        "id": "m4m30VV1Fwef",
        "outputId": "3d6c1f74-b937-42fb-c6bc-7a08fef7c59c"
      },
      "execution_count": null,
      "outputs": [
        {
          "output_type": "stream",
          "name": "stderr",
          "text": [
            "No model was supplied, defaulted to sshleifer/distilbart-cnn-12-6 and revision a4f8f3e (https://huggingface.co/sshleifer/distilbart-cnn-12-6).\n",
            "Using a pipeline without specifying a model name and revision in production is not recommended.\n"
          ]
        },
        {
          "output_type": "execute_result",
          "data": {
            "text/plain": [
              "[{'summary_text': ' Social identity theory explains how the self-concept is associated with group membership and group and intergroup behavior . People have a repertoire of different ways to conceive of themselves; they have many different identities that can be classified as personal identities or social identities . People make binary categorizations in which one of the categories is the group that they are in, the ingroup .'}]"
            ]
          },
          "metadata": {},
          "execution_count": 3
        }
      ]
    }
  ]
}